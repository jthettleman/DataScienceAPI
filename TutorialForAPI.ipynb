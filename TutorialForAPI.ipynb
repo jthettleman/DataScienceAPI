{
 "cells": [
  {
   "cell_type": "code",
   "execution_count": 5,
   "metadata": {},
   "outputs": [],
   "source": [
    "import requests\n",
    "import urllib\n",
    "from bs4 import BeautifulSoup as bs\n",
    "\n",
    "steam_id = \"76561198079100114\"\n",
    "steam_key = \"88E658143E5021C7CEBD096F44864553\"\n",
    "URL = \"http://api.steampowered.com/\"\n",
    "\n",
    "friends_API_link = \"http://api.steampowered.com/ISteamUser/GetFriendList/v0001/?key=88E658143E5021C7CEBD096F44864553&steamid=76561198079100114&format=xml\""
   ]
  },
  {
   "cell_type": "code",
   "execution_count": 23,
   "metadata": {},
   "outputs": [
    {
     "name": "stdout",
     "output_type": "stream",
     "text": [
      "76561197961086396\n",
      "76561197979799780\n",
      "76561197997235717\n",
      "76561198011916707\n",
      "76561198018653694\n",
      "76561198023402438\n",
      "76561198026073444\n",
      "76561198031936525\n",
      "76561198038896711\n",
      "76561198042737364\n",
      "76561198042811583\n",
      "76561198045364248\n",
      "76561198046090991\n",
      "76561198057186150\n",
      "76561198059107698\n",
      "76561198060408813\n",
      "76561198065060554\n",
      "76561198066605291\n",
      "76561198067383783\n",
      "76561198067779344\n",
      "76561198069029744\n",
      "76561198069255586\n",
      "76561198070121814\n",
      "76561198070594380\n",
      "76561198070782167\n",
      "76561198072786024\n",
      "76561198080684017\n",
      "76561198091861732\n",
      "76561198094817106\n",
      "76561198099429306\n",
      "76561198099460688\n",
      "76561198107678623\n",
      "76561198114687237\n",
      "76561198118212328\n",
      "76561198118315931\n",
      "76561198119640018\n",
      "76561198120714735\n",
      "76561198121150327\n",
      "76561198121707022\n",
      "76561198126557168\n",
      "76561198142189829\n",
      "76561198144165189\n",
      "76561198145243313\n",
      "76561198168728779\n",
      "76561198175839279\n",
      "76561198201420805\n",
      "76561198209131837\n",
      "76561198216005448\n",
      "76561198216028412\n",
      "76561198276244165\n",
      "76561198308283928\n",
      "76561198330189125\n",
      "76561198349858354\n"
     ]
    }
   ],
   "source": [
    "response = requests.get(friends_API_link)\n",
    "bowl = bs(response.content, \"lxml\")\n",
    "\n",
    "friendCodes = []\n",
    "for tag in bowl.findAll(\"steamid\"):\n",
    "    friendCodes.append(tag.text)\n",
    "    print(tag.text)"
   ]
  },
  {
   "cell_type": "code",
   "execution_count": 24,
   "metadata": {},
   "outputs": [
    {
     "name": "stdout",
     "output_type": "stream",
     "text": [
      "Brian Lefeve\n",
      "ShaggySlaps\n",
      "DabTheInhaler\n",
      "Secret Agent X-9\n",
      "The White Monster\n",
      "cdmoney765\n",
      "DMadHacks\n",
      "A.I\n",
      "Cokpe\n",
      "Gcloud\n",
      "The Swag Master Admiral\n",
      "Kiszø\n",
      "crazycrisco\n",
      "zoofy\n",
      "a wild pikajew\n",
      "Mr. Ostentatious\n",
      "AsianZensaition\n",
      "m01100001x\n",
      "Narquan\n",
      "moms fat lips\n",
      "Gate_Thief,King of Bulbasaurs\n",
      "two years later...\n",
      "AHomelessWalrus\n",
      "TheWaffleHouseAllStarBreakfast™\n",
      "Bait\n",
      "slimypeople\n",
      "cap_n_yo_skull97\n",
      "zwwokay\n",
      "Douchicus Maximus\n",
      "shreddedgold\n",
      "TheBohonk\n",
      "liam\n",
      "Going to the League\n",
      "KimJongKang\n",
      "-̗̀Naté̖-\n",
      "dank \n",
      "IonRain\n",
      "burnbrighterthancaprisun\n",
      "Agent Bowtie\n",
      "ESSAY   Republic-Life.net\n",
      "Pvt_Larry\n",
      "MazaKeki\n",
      "Acenter\n",
      "Nil\n",
      "Silent Slayer\n",
      "Wolfie\n",
      "YolooDevil\n",
      "Kobe\n",
      "SolidSnack77\n",
      "Twitch bigtent\n",
      "Yancy\n",
      "Ghostpwner\n",
      "Abhinav\n"
     ]
    }
   ],
   "source": [
    "formatted_friends = \"\"\n",
    "for friend in friendCodes:\n",
    "    formatted_friends+=friend+\",\"\n",
    "get_account_names = \"http://api.steampowered.com/ISteamUser/GetPlayerSummaries/v0002/?key=\"+steam_key+\"&format=xml&steamids=\"+formatted_friends\n",
    "\n",
    "response = requests.get(get_account_names)\n",
    "bowl = bs(response.content, \"lxml\")\n",
    "#print(bowl)\n",
    "\n",
    "friendNames = []\n",
    "for tag in bowl.find_all(\"personaname\"):\n",
    "    friendNames.append(tag.text)\n",
    "    print(tag.text)"
   ]
  },
  {
   "cell_type": "code",
   "execution_count": null,
   "metadata": {},
   "outputs": [],
   "source": []
  }
 ],
 "metadata": {
  "kernelspec": {
   "display_name": "Python 3",
   "language": "python",
   "name": "python3"
  },
  "language_info": {
   "codemirror_mode": {
    "name": "ipython",
    "version": 3
   },
   "file_extension": ".py",
   "mimetype": "text/x-python",
   "name": "python",
   "nbconvert_exporter": "python",
   "pygments_lexer": "ipython3",
   "version": "3.5.2"
  },
  "varInspector": {
   "cols": {
    "lenName": 16,
    "lenType": 16,
    "lenVar": 40
   },
   "kernels_config": {
    "python": {
     "delete_cmd_postfix": "",
     "delete_cmd_prefix": "del ",
     "library": "var_list.py",
     "varRefreshCmd": "print(var_dic_list())"
    },
    "r": {
     "delete_cmd_postfix": ") ",
     "delete_cmd_prefix": "rm(",
     "library": "var_list.r",
     "varRefreshCmd": "cat(var_dic_list()) "
    }
   },
   "types_to_exclude": [
    "module",
    "function",
    "builtin_function_or_method",
    "instance",
    "_Feature"
   ],
   "window_display": false
  }
 },
 "nbformat": 4,
 "nbformat_minor": 2
}
